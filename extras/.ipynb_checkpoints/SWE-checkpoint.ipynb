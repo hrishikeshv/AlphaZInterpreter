{
 "cells": [
  {
   "cell_type": "code",
   "execution_count": 4,
   "metadata": {
    "collapsed": false
   },
   "outputs": [
    {
     "name": "stdout",
     "output_type": "stream",
     "text": [
      "<Element '{http://alphaz/commandIF}Category' at 0x7f5b301df090>\n"
     ]
    }
   ],
   "source": [
    "from xml.etree import ElementTree\n",
    "path = \"alphazMDECommands.commandif\"\n",
    "with open(path, 'r') as f:\n",
    "    tree = ElementTree.parse(f)\n",
    "root = tree.getroot()\n",
    "print(root)"
   ]
  },
  {
   "cell_type": "code",
   "execution_count": 6,
   "metadata": {
    "collapsed": false
   },
   "outputs": [
    {
     "name": "stdout",
     "output_type": "stream",
     "text": [
      "<Element 'commands' at 0x7f8c14635c90>\n",
      "{'overLoadedInputs': '//@subcategories.0/@subcategories.2/@commands.0/@inputs.0 //@subcategories.0/@subcategories.2/@commands.0/@inputs.1 //@subcategories.0/@subcategories.2/@commands.0/@inputs.3'}\n",
      "{'overLoadedInputs': '//@subcategories.0/@subcategories.2/@commands.0/@inputs.0 //@subcategories.0/@subcategories.2/@commands.0/@inputs.1 //@subcategories.0/@subcategories.2/@commands.0/@inputs.3 //@subcategories.0/@subcategories.2/@commands.0/@inputs.4'}\n",
      "{'overLoadedInputs': '//@subcategories.0/@subcategories.2/@commands.0/@inputs.0 //@subcategories.0/@subcategories.2/@commands.0/@inputs.1'}\n",
      "{'overLoadedInputs': '//@subcategories.0/@subcategories.2/@commands.0/@inputs.0 //@subcategories.0/@subcategories.2/@commands.0/@inputs.1 //@subcategories.0/@subcategories.2/@commands.0/@inputs.4'}\n",
      "{'overLoadedInputs': '//@subcategories.0/@subcategories.2/@commands.0/@inputs.0 //@subcategories.0/@subcategories.2/@commands.0/@inputs.1 //@subcategories.0/@subcategories.2/@commands.0/@inputs.2 //@subcategories.0/@subcategories.2/@commands.0/@inputs.3'}\n",
      "{'name': 'program'}\n",
      "{'type': 'String', 'name': 'system'}\n",
      "{'defaultValue': 'getDefaultCodeGenOptions(program, system)', 'type': 'CodeGenOptions', 'name': 'options'}\n",
      "{'defaultValue': '\"./\"', 'type': 'String', 'name': 'outDir'}\n",
      "{'defaultValue': 'false', 'type': 'Boolean', 'name': 'genVerifier'}\n",
      "['', '@subcategories.0/@subcategories.2/@commands.0/@inputs.0 ', '@subcategories.0/@subcategories.2/@commands.0/@inputs.1 ', '@subcategories.0/@subcategories.2/@commands.0/@inputs.3']\n"
     ]
    }
   ],
   "source": [
    "basic = root[0][0]\n",
    "#print(basic.attrib)\n",
    "print(root[0][2][0])\n",
    "for l in root[0][2][0]:\n",
    "    print(l.attrib)\n",
    "s = root[0][2][0][0].attrib['overLoadedInputs'].split('//')\n",
    "print(s)"
   ]
  },
  {
   "cell_type": "code",
   "execution_count": 7,
   "metadata": {
    "collapsed": false
   },
   "outputs": [],
   "source": [
    "typemap ={\n",
    "    'AffineFunction' : 'aff',\n",
    "    'CodeGenOptions' : 'cgo',\n",
    "    'Domain' : 'dom',\n",
    "    'List<ScheduledStatement>' : 'sched',\n",
    "    'PRDG' : 'prdg',\n",
    "    'TiledCodeGenOptions' : 'tcgo'\n",
    "  }\n",
    "\n",
    "def genfunc(node, sub):\n",
    "    \n",
    "    funcname = node.attrib['name']\n",
    "    varlist = []\n",
    "    ind = 0\n",
    "    returntype = None\n",
    "    if 'output' in node.attrib.keys():\n",
    "        returntype = node.attrib['output'] \n",
    "    for param in node:\n",
    "        ptype = ''\n",
    "        pname = ''\n",
    "        if 'type' in param.attrib.keys():\n",
    "            ptype = param.attrib['type']\n",
    "        if 'name' in param.attrib.keys():\n",
    "            pname = param.attrib['name']\n",
    "        if not pname and not ptype:\n",
    "            continue\n",
    "        if pname and 'prog' in pname:\n",
    "            varlist.append('prog')\n",
    "        elif pname and 'syst' in pname:\n",
    "                varlist.append('sys')\n",
    "        elif 'Tiled' in ptype:\n",
    "            varlist.append('tcgo')\n",
    "        elif 'Domain' in ptype:\n",
    "            varlist.append('dom')\n",
    "        elif 'Code' in ptype:\n",
    "            varlist.append('cgo')\n",
    "        elif 'Affine' in ptype:\n",
    "            varlist.append('aff')\n",
    "        elif 'PRDG' in ptype:\n",
    "            varlist.append('prdg')\n",
    "        elif 'List' in ptype:\n",
    "            varlist.append('sched')\n",
    "        elif 'Boolean' in ptype:\n",
    "            varlist.append('Boolean.valueOf(params[' + str(ind) + '])')\n",
    "            ind +=1\n",
    "        elif 'int' in ptype:\n",
    "            varlist.append('Integer.valueOf(params[' + str(ind) + '])')\n",
    "            ind +=1\n",
    "        else:\n",
    "            varlist.append('params['+str(ind)+']')\n",
    "            ind +=1\n",
    "    assignvar = None\n",
    "    if returntype and returntype in typemap.keys():\n",
    "        assignvar = typemap[returntype]\n",
    "    \n",
    "    if assignvar:\n",
    "        funcinvoke = assignvar + ' = ' + sub + '.' + funcname + '(' + ','.join(varlist) + ')'\n",
    "    else:\n",
    "        funcinvoke = sub + '.' + funcname + '(' + ','.join(varlist) + ')'\n",
    "    return (funcname,funcinvoke)"
   ]
  },
  {
   "cell_type": "code",
   "execution_count": 10,
   "metadata": {
    "collapsed": false
   },
   "outputs": [],
   "source": [
    "funcstr = []\n",
    "for l in root[0]:\n",
    "    sub = l.attrib['name']\n",
    "    if sub == 'Utility':\n",
    "        continue\n",
    "    for func in l:\n",
    "        #print(func.attrib['name'])\n",
    "        if func.tag == 'commands':\n",
    "            funcstr.append(genfunc(func,sub))\n",
    "        else:\n",
    "            for subfunc in func:\n",
    "                funcstr.append(genfunc(subfunc, func.attrib['name']))"
   ]
  },
  {
   "cell_type": "code",
   "execution_count": 11,
   "metadata": {
    "collapsed": false
   },
   "outputs": [],
   "source": [
    "def genswitch(funcstr):\n",
    "    f = open('switchstatement.txt','w')\n",
    "    f.write('switch(func){\\n')\n",
    "    for (name,proto) in funcstr:\n",
    "        s = 'case \"' + name + '\":\\n'\n",
    "        s = s + '\\t' + proto + ';\\n'\n",
    "        s = s + '\\tbreak;\\n'\n",
    "        f.write(s)\n",
    "    f.write('default:\\n\\tbreak;\\n}\\n')\n",
    "    f.close()"
   ]
  },
  {
   "cell_type": "code",
   "execution_count": 12,
   "metadata": {
    "collapsed": false
   },
   "outputs": [
    {
     "name": "stdout",
     "output_type": "stream",
     "text": [
      "[('ASave', 'Basic.ASave(prog,params[0])'), ('ASaveSystem', 'Basic.ASaveSystem(prog,sys,params[0])'), ('AShow', 'Basic.AShow(prog,sys)'), ('Save', 'Basic.Save(prog,params[0])'), ('SaveSystem', 'Basic.SaveSystem(prog,sys,params[0])'), ('Show', 'Basic.Show(prog,sys)'), ('Normalize', 'Basic.Normalize(prog)'), ('PrintAST', 'Basic.PrintAST(prog,sys)'), ('ReadAlphabets', 'Basic.ReadAlphabets(params[0])'), ('RenameSystem', 'Basic.RenameSystem(prog,sys,params[0])'), ('RenameVariable', 'Basic.RenameVariable(prog,sys,params[0],params[1])'), ('RemoveUnusedVariables', 'Basic.RemoveUnusedVariables(prog,sys)'), ('PermutationCaseReduce', 'Reduction.PermutationCaseReduce(prog,sys,params[0])'), ('ReductionDecomposition', 'Reduction.ReductionDecomposition(prog,params[0],params[1],params[2])'), ('SimplifyingReduction', 'Reduction.SimplifyingReduction(prog,sys,params[0],params[1])'), ('NormalizeReduction', 'Reduction.NormalizeReduction(prog,params[0])'), ('FactorOutFromReduction', 'Reduction.FactorOutFromReduction(prog,params[0])'), ('SplitReductionBody', 'Reduction.SplitReductionBody(prog,params[0],params[1])'), ('TransformReductionBody', 'Reduction.TransformReductionBody(prog,params[0],params[1])'), ('SerializeReduction', 'Reduction.SerializeReduction(prog,params[0],params[1])'), ('MergeReductions', 'Reduction.MergeReductions(prog,params[0])'), ('ReductionComposition', 'Reduction.ReductionComposition(prog,params[0])'), ('monoparametricTiling_noOutlining', 'MonoparametricTiling.monoparametricTiling_noOutlining(prog,sys,params[0],Boolean.valueOf(params[1]),Integer.valueOf(params[2]))'), ('monoparametricTiling_Outlining_noSubsystem', 'MonoparametricTiling.monoparametricTiling_Outlining_noSubsystem(prog,sys,params[0],Boolean.valueOf(params[1]),Integer.valueOf(params[2]))'), ('monoparametricTiling_Outlining', 'MonoparametricTiling.monoparametricTiling_Outlining(prog,sys,params[0],Boolean.valueOf(params[1]),Integer.valueOf(params[2]))'), ('setRatio', 'MonoparametricTiling.setRatio(prog,sys,params[0],params[1])'), ('setMinParamValues', 'MonoparametricTiling.setMinParamValues(prog,sys,params[0],Integer.valueOf(params[1]))'), ('setTileGroup', 'MonoparametricTiling.setTileGroup(prog,sys,params[0],params[1])'), ('setCoBPreprocess', 'MonoparametricTiling.setCoBPreprocess(prog,sys,params[0],params[1])'), ('CoB', 'Transformation.CoB(prog,sys,params[0],aff)'), ('ForceCoB', 'Transformation.ForceCoB(prog,sys,params[0],aff)'), ('Split', 'Transformation.Split(prog,sys,params[0],params[1],params[2])'), ('Merge', 'Transformation.Merge(prog,sys,params[0],params[1],params[2])'), ('Inline', 'Transformation.Inline(prog,sys,params[0],params[1],Integer.valueOf(params[2]))'), ('Simplify', 'Transformation.Simplify(prog,sys)'), ('createFreeScheduler', 'Transformation.createFreeScheduler(prog,params[0])'), ('SplitUnion', 'Transformation.SplitUnion(prog,params[0])'), ('ApplySTMap', 'Transformation.ApplySTMap(prog,sys)'), ('UniformizeInContext', 'Transformation.UniformizeInContext(prog,sys,Integer.valueOf(params[0]))'), ('InlineForce', 'Transformation.InlineForce(prog,sys,params[0],params[1],Integer.valueOf(params[2]))'), ('InlineAll', 'Transformation.InlineAll(prog,sys,params[0])'), ('InlineAllForce', 'Transformation.InlineAllForce(prog,sys,params[0])'), ('InlineSubSystem', 'Transformation.InlineSubSystem(prog,sys,params[0])'), ('OutlineSubSystem', 'Transformation.OutlineSubSystem(prog,sys,params[0])'), ('AddLocal', 'Transformation.AddLocal(prog,sys,params[0],params[1])'), ('AddLocalUnique', 'Transformation.AddLocalUnique(prog,sys,params[0],params[1])'), ('DetectReductions', 'Transformation.DetectReductions(prog,sys)'), ('reduceDimVariable', 'aff = Transformation.reduceDimVariable(prog,sys,params[0])'), ('alignDimVariable', 'aff = Transformation.alignDimVariable(prog,sys,params[0])'), ('generateScheduledCode', 'CodeGen.generateScheduledCode(prog,sys,cgo,params[0],Boolean.valueOf(params[1]))'), ('generateWriteC', 'CodeGen.generateWriteC(prog,sys,cgo,params[0])'), ('generateWrapper', 'CodeGen.generateWrapper(prog,sys,cgo,params[0])'), ('generateVerificationCode', 'CodeGen.generateVerificationCode(prog,sys,params[0])'), ('generateMakefile', 'CodeGen.generateMakefile(prog,sys,cgo,params[0])'), ('generateMakefileInternal', 'CodeGen.generateMakefileInternal(prog,sys,cgo,params[0])'), ('createCGOptionForWriteC', 'cgo = CodeGen.createCGOptionForWriteC()'), ('createCGOptionForScheduledC', 'cgo = CodeGen.createCGOptionForScheduledC()'), ('createCGOptionForHybridScheduledCGPU', 'cgo = CodeGen.createCGOptionForHybridScheduledCGPU(Integer.valueOf(params[0]))'), ('createCGOptionForHybridScheduledC', 'cgo = CodeGen.createCGOptionForHybridScheduledC(Integer.valueOf(params[0]))'), ('setCGOptionFlattenArrays', 'CodeGen.setCGOptionFlattenArrays(cgo,Integer.valueOf(params[0]))'), ('setCGOptionDisableNormalize_depreciated', 'CodeGen.setCGOptionDisableNormalize_depreciated(cgo)'), ('createTiledCGOptionForScheduledC', 'tcgo = CodeGen.createTiledCGOptionForScheduledC()'), ('createCGOptionsForPCOT', 'tcgo = CodeGen.createCGOptionsForPCOT()'), ('setTiledCGOptionOptimize', 'CodeGen.setTiledCGOptionOptimize(tcgo,Integer.valueOf(params[0]))'), ('getDefaultCodeGenOptions', 'cgo = CodeGen.getDefaultCodeGenOptions(prog,sys)'), ('generateScanC', 'CodeGen.generateScanC(prog,sys,cgo,params[0])'), ('generatePCOTCode', 'CodeGen.generatePCOTCode(prog,sys,tcgo,params[0],Boolean.valueOf(params[1]))'), ('generateFMPPCode', 'CodeGen.generateFMPPCode(prog,sys,params[0],tcgo,params[1])'), ('setVecOptionForTiledC', 'CodeGen.setVecOptionForTiledC(tcgo,params[0],params[1],params[2])'), ('setVecVarsForTiledC', 'CodeGen.setVecVarsForTiledC(prog,sys,tcgo,params[0])'), ('setVecVarForTiledC', 'CodeGen.setVecVarForTiledC(prog,sys,tcgo,params[0],params[1])'), ('addRecursionDepthForPCOT', 'tcgo = CodeGen.addRecursionDepthForPCOT(tcgo)'), ('readDomain', 'dom = Calculator.readDomain(dom,params[0])'), ('readFunction', 'aff = Calculator.readFunction(dom,params[0])'), ('inverse', 'aff = Calculator.inverse(aff)'), ('inverseInContext', 'aff = Calculator.inverseInContext(dom,aff)'), ('compose', 'aff = Calculator.compose(aff,aff)'), ('intersection', 'dom = Calculator.intersection(dom,dom)'), ('union', 'dom = Calculator.union(dom,dom)'), ('join', 'aff = Calculator.join(aff,aff)'), ('isEmpty', 'Calculator.isEmpty(dom)'), ('isEquivalent', 'Calculator.isEquivalent(dom,dom)'), ('image', 'dom = Calculator.image(aff,dom)'), ('preImage', 'dom = Calculator.preImage(aff,dom)'), ('difference', 'dom = Calculator.difference(dom,dom)'), ('simplifyInContext', 'dom = Calculator.simplifyInContext(dom,dom)'), ('BuildPRDG', 'prdg = Analysis.BuildPRDG(prog,sys,Integer.valueOf(params[0]))'), ('ExportPRDG', 'Analysis.ExportPRDG(prdg,params[0])'), ('CheckProgram', 'Analysis.CheckProgram(prog)'), ('VerifyTargetMapping', 'Analysis.VerifyTargetMapping(prog,sys,params[0])'), ('CheckSystem', 'Analysis.CheckSystem(prog,sys)'), ('Farkas1DScheduler', 'sched = Analysis.Farkas1DScheduler(prdg)'), ('FarkasMDScheduler', 'sched = Analysis.FarkasMDScheduler(prdg)'), ('PlutoScheduler', 'sched = Analysis.PlutoScheduler(prdg)'), ('revertPRDGEdges', 'prdg = Analysis.revertPRDGEdges(prdg)'), ('printScheduledStatements', 'Analysis.printScheduledStatements(sched)'), ('setSpaceTimeMap', 'TargetMapping.setSpaceTimeMap(prog,sys,Integer.valueOf(params[0]),params[1],aff)'), ('setMemoryMap', 'TargetMapping.setMemoryMap(prog,sys,params[0],params[1],aff,params[2])'), ('setMemorySpace', 'TargetMapping.setMemorySpace(prog,sys,params[0],params[1])'), ('setStatementOrdering', 'TargetMapping.setStatementOrdering(prog,sys,params[0],params[1])'), ('listSpaceTimeMaps', 'TargetMapping.listSpaceTimeMaps(prog,sys,Integer.valueOf(params[0]))'), ('listMemoryMaps', 'TargetMapping.listMemoryMaps(prog,sys)'), ('setSchedule', 'TargetMapping.setSchedule(prog,sys,sched)'), ('setParallel', 'TargetMapping.setParallel(prog,sys,Integer.valueOf(params[0]),params[1],params[2])'), ('CreateSpaceTimeLevel', 'TargetMapping.CreateSpaceTimeLevel(prog,sys,Integer.valueOf(params[0]))'), ('setOrderingDimensions', 'TargetMapping.setOrderingDimensions(prog,sys,Integer.valueOf(params[0]),params[1])'), ('setSpaceTimeMapForMemoryAllocation', 'TargetMapping.setSpaceTimeMapForMemoryAllocation(prog,sys,params[0],Integer.valueOf(params[1]),Integer.valueOf(params[2]),aff)'), ('setSpaceTimeMapForValueCopy', 'TargetMapping.setSpaceTimeMapForValueCopy(prog,sys,params[0],Integer.valueOf(params[1]),Integer.valueOf(params[2]),aff)'), ('setSpaceTimeMapForMemoryFree', 'TargetMapping.setSpaceTimeMapForMemoryFree(prog,sys,params[0],Integer.valueOf(params[1]),Integer.valueOf(params[2]),aff)'), ('setSpaceTimeMapForUseEquationOptimization', 'TargetMapping.setSpaceTimeMapForUseEquationOptimization(prog,sys,params[0],Integer.valueOf(params[1]),Integer.valueOf(params[2]),aff,aff,aff)'), ('setMemorySpaceForUseEquationOptimization', 'TargetMapping.setMemorySpaceForUseEquationOptimization(prog,sys,params[0],Integer.valueOf(params[1]),Integer.valueOf(params[2]),params[3])'), ('setBandForTiling', 'TargetMapping.setBandForTiling(prog,sys,params[0],Integer.valueOf(params[1]),params[2],Integer.valueOf(params[3]),Integer.valueOf(params[4]))'), ('setSubTilingWithinBand', 'TargetMapping.setSubTilingWithinBand(prog,sys,params[0],Integer.valueOf(params[1]),Integer.valueOf(params[2]),Integer.valueOf(params[3]),params[4])'), ('setDefaultDTilerConfiguration', 'TargetMapping.setDefaultDTilerConfiguration(prog,sys,Integer.valueOf(params[0]),Integer.valueOf(params[1]),params[2])')]\n"
     ]
    }
   ],
   "source": [
    "genswitch(funcstr)\n",
    "print(funcstr)"
   ]
  },
  {
   "cell_type": "code",
   "execution_count": 34,
   "metadata": {
    "collapsed": false
   },
   "outputs": [],
   "source": [
    "def getoverloadedparams(func):\n",
    "    paramtypelist = []\n",
    "    overlist = []\n",
    "    print(func.attrib)\n",
    "    for l in func:\n",
    "        #print(l.attrib)\n",
    "        if 'overLoadedInputs' in l.attrib.keys():\n",
    "            overstr = l.attrib['overLoadedInputs'].replace(\" \",\"\").lstrip('//').split('//')\n",
    "            indlist = [int(t[-1]) for t in overstr]\n",
    "            overlist.append(indlist)\n",
    "        else:\n",
    "            if 'name' in l.attrib.keys() and 'prog' in l.attrib['name']:\n",
    "                paramtypelist.append('Program')\n",
    "            elif 'type' in l.attrib.keys():\n",
    "                if(l.attrib['type'] == 'int'):\n",
    "                    paramtypelist.append('Integer')\n",
    "                else:\n",
    "                    paramtypelist.append(l.attrib['type'])\n",
    "    \n",
    "    return [paramtypelist, overlist]"
   ]
  },
  {
   "cell_type": "code",
   "execution_count": 75,
   "metadata": {
    "collapsed": false
   },
   "outputs": [
    {
     "name": "stdout",
     "output_type": "stream",
     "text": [
      "{'description': 'Generates scheduledC code for a system using the TargetMapping specified for the system.\\nDetailed options can be given through optional argument.', 'name': 'generateScheduledCode'}\n"
     ]
    },
    {
     "data": {
      "text/plain": [
       "[['Program', 'String', 'CodeGenOptions', 'String', 'Boolean'],\n",
       " [[0, 1, 3], [0, 1, 3, 4], [0, 1], [0, 1, 4], [0, 1, 2, 3]]]"
      ]
     },
     "execution_count": 75,
     "metadata": {},
     "output_type": "execute_result"
    }
   ],
   "source": [
    "getoverloadedparams(root[0][2][0])"
   ]
  },
  {
   "cell_type": "code",
   "execution_count": 37,
   "metadata": {
    "collapsed": false
   },
   "outputs": [],
   "source": [
    "def getswitchforfunc(func, subcat):\n",
    "    [paramlist,overlist] = getoverloadedparams(func)\n",
    "    output = False\n",
    "    if('output' in func.attrib.keys()):\n",
    "        output = True\n",
    "    ifstmt = []\n",
    "    #print(overlist)\n",
    "    overlist = [range(len(paramlist))] + overlist\n",
    "    for indlist in overlist:\n",
    "        check = []\n",
    "        check.append('(params.length == '+str(len(indlist))+')')\n",
    "        for i in range(len(indlist)):\n",
    "            if paramlist[indlist[i]] == 'Integer':\n",
    "                paramstr = '(params[' + str(i) + '] instanceof Integer)'\n",
    "            else:\n",
    "                paramstr = '(params[' + str(i) + '] instanceof ' + paramlist[indlist[i]] + ')'\n",
    "            check.append(paramstr)\n",
    "\n",
    "        ifstmt.append(' && '.join(check))\n",
    "\n",
    "    finstr = '\\tif(' + ifstmt[0] + '){\\n'\n",
    "    if output:\n",
    "        finstr = finstr + '\\t\\tresult = ' + subcat + '.' + func.attrib['name'] + '(' + ', '.join(['(' + paramlist[overlist[0][i]] + ') params['+str(i)+']' for i in range(len(overlist[0]))]) + ');\\n\\t}\\n'\n",
    "    else:\n",
    "        finstr = finstr + '\\t\\t' + subcat + '.' + func.attrib['name'] + '(' + ', '.join(['(' + paramlist[overlist[0][i]] + ') params['+str(i)+']' for i in range(len(overlist[0]))]) + ');\\n\\t}\\n'\n",
    "    for k in range(1,len(ifstmt)):\n",
    "        finstr = finstr + '\\telse if(' + ifstmt[k] + '){\\n'\n",
    "        if output:\n",
    "            finstr = finstr + '\\t\\tresult = ' + subcat + '.' + func.attrib['name'] + '(' + ', '.join(['(' + paramlist[overlist[k][i]] + ') params['+str(i)+']' for i in range(len(overlist[k]))]) + ');\\n\\t}\\n'\n",
    "        else:\n",
    "            finstr = finstr + '\\t\\t' + subcat + '.' + func.attrib['name'] + '(' + ', '.join(['(' + paramlist[overlist[k][i]] + ') params['+str(i)+']' for i in range(len(overlist[k]))]) + ');\\n\\t}\\n'\n",
    "\n",
    "    finstr = finstr + '\\telse{\\n\\t\\thp.printHelp(func);\\n\\t}\\n'\n",
    "    return finstr"
   ]
  },
  {
   "cell_type": "code",
   "execution_count": null,
   "metadata": {
    "collapsed": false
   },
   "outputs": [],
   "source": []
  },
  {
   "cell_type": "code",
   "execution_count": 38,
   "metadata": {
    "collapsed": false
   },
   "outputs": [
    {
     "name": "stdout",
     "output_type": "stream",
     "text": [
      "{'description': 'Outputs the program to the specified file with array syntax.\\nWhen filename is not specified, saves as \"original_filename-ASave.ab\".', 'name': 'ASave'}\n",
      "{'description': 'Outputs the result of AShow to the specified file.\\nWhen filename is not specified, saves as \"original_filename-ASave.ab\".', 'name': 'ASaveSystem'}\n",
      "{'output': 'String', 'description': 'Prints out the program using array notation.\\nPrints out the entire program when target system is unspecified.\\n', 'name': 'AShow'}\n",
      "{'description': 'Saves the output of show to the specified file.\\nWhen output filename is unspecified, saves to \"original_filename-Show.ab\".', 'name': 'Save'}\n",
      "{'description': 'Saves the output of show to the specified file.\\nWhen output filename is unspecified, saves to \"original_filename-Show.ab\".', 'name': 'SaveSystem'}\n",
      "{'output': 'String', 'description': 'Pretty prints the program using alpha-purist syntax.\\nPrints out the entire program when target system is unspecified.', 'name': 'Show'}\n",
      "{'description': 'Normalizes the program. Normalization rules are described in more detail at: \\\\url{http://www.cs.colostate.edu/AlphaZ/wiki/doku.php?id=normalize}.', 'name': 'Normalize'}\n",
      "{'output': 'String', 'description': 'Prints out the AST of the program.\\nPrints out the entire program when target system is unspecified.', 'name': 'PrintAST'}\n",
      "{'output': 'Program', 'description': 'Parses the given alphabets program and returns a Program object.', 'name': 'ReadAlphabets'}\n",
      "{'description': 'Renames an AffineSystem.', 'name': 'RenameSystem'}\n",
      "{'description': 'Renames a variable.', 'name': 'RenameVariable'}\n",
      "{'description': 'Removes unused variables and equations. Unused variables are variables that is not used by the definition of output.', 'name': 'RemoveUnusedVariables'}\n",
      "{'description': 'Takes case expression inside reductions out side of the reduction.\\nThis transformation can be applied to three different targets, \\nthe entire program, an affine system, or an equation.', 'name': 'PermutationCaseReduce'}\n",
      "{'description': 'Decomposes a reduction spanning more than one dimensions to two reductions.\\nFunction f1 composed with f2 should match the original projection function.\\n\\nThe target reduction is specified as the n-th occurrence in the rhs of an equation indexed from 0.', 'name': 'ReductionDecomposition'}\n",
      "{'description': 'Simplifies the specified reduction using the reuse specified. It does not check if the given reuse is correct.', 'name': 'SimplifyingReduction'}\n",
      "{'description': 'Transforms reductions specified into normal form.\\nThe normal form of a reduction is when a reduce expression is the direct child of an equation.', 'name': 'NormalizeReduction'}\n",
      "{'description': 'Factors out an operand of point-wise operations (specified with nodeID) from the reduction body.\\nIt checks if the operator is distributive over the reduction operator, but does not verify that the given expression is constant in context.', 'name': 'FactorOutFromReduction'}\n",
      "{'description': 'Takes a nodeID of a reduce expression, reduce(op, f, expr), and transform it in to two reductions;\\nreduce(op, f, D1 : expr) op reduce(op, f, D2 : expr) where D1 is the splitDomain, and D2 is the difference between the original expression domain of the reduction body and the splitDomain.', 'name': 'SplitReductionBody'}\n",
      "{'description': 'Given reduce expression, reduce(op, f, expr), transforms the reduction to reduce(op, f, image(Dexpr, T) : Tinv@expr).\\nThe domain is transformed to the image by T, and specified as restrict. All variable accesses are composed with the inverse of T, so that other variables are unchanged.', 'name': 'TransformReductionBody'}\n",
      "{'description': 'Serializes a reduction using the dependencies inferred from the given schedule.', 'name': 'SerializeReduction'}\n",
      "{'description': 'Merges two reductions combined by a binary operator into one reduction (with case branches) if possible.\\nIt is possible if all the operators are the same and the projection functions matches.', 'name': 'MergeReductions'}\n",
      "{'description': 'Composes the given reduction (represented by the nodeID) with its immediate child assuming that it is also a reduction with the same operator. this transformation implements the following reduce(op, f1, reduce(op, f2, body)); => reduce(op, f1 o f2, body); and is the reverse of ReductionDecomposition. Added support for the case when there is a restrict expression surrounding the inner reduction.', 'name': 'ReductionComposition'}\n",
      "{'description': 'Perform a monoparametric tiling transformation without outlining (the result is a single system in which all the dimensions are doubled).\\nBy default, the ratio taken is 1^k (square), the minimum values of the blocked parameters are 0\\n    and each variables of the system are tiled independently, with no change of basis as a preprocessing.', 'name': 'monoparametricTiling_noOutlining'}\n",
      "{'description': 'Perform a monoparametric tiling transformation without outlining (the result is a single system in which all the dimensions are doubled).\\nBy default, the ratio taken is 1^k (square), the minimum values of the blocked parameters are 0\\n    and each variables of the system are tiled independently, with no change of basis as a preprocessing.\\n\\nThe equations of the produced system are double-nested case expression, the first level corresponding to the constraints on the blocked indices\\n    and the second level to the constraints on the local indices.', 'name': 'monoparametricTiling_Outlining_noSubsystem'}\n",
      "{'description': 'Perform a monoparametric tiling transformation with outlining (produces a subsystem for each kind of tiles in the program).\\nBy default, the ratio taken is 1^k (square), the minimum values of the blocked parameters are 0\\n    and each variables of the system are tiled independently, with no change of basis as a preprocessing.', 'name': 'monoparametricTiling_Outlining'}\n",
      "{'description': 'Specify the ratio of a variable, before the tiling transformation. The default ratio taken for a variable is 1^k (square ratio)', 'name': 'setRatio'}\n",
      "{'description': 'Set the minimum blocked parameter values, before the tiling transformation.\\nThe default value is \"0\" for every parameters.', 'name': 'setMinParamValues'}\n",
      "{'description': 'Set the tile group of a variable (through a common name), before a tiling.\\nBy default, each variable is alone in its tile group (which has the same name than the variable name)', 'name': 'setTileGroup'}\n",
      "{'description': 'Set the Change of Basis transformation that need to be performed before tiling (usually to make the rectangular tiling legal).\\nBy default, this function is Id (i.e., no CoB is performed before the tiling)', 'name': 'setCoBPreprocess'}\n",
      "{'description': 'Change of Basis transforms the domain of a variable to the image by the given function, while adding necessary dependence expressions to maintain the original semantics of the program. Details can be found at \\\\url{http://www.cs.colostate.edu/AlphaZ/wiki/doku.php?id=change_of_basis}.', 'name': 'CoB'}\n",
      "{'description': 'Force the change of basis even if the CoB is for input/output of a system.', 'name': 'ForceCoB'}\n",
      "{'description': 'Splits a variable into two, where the domain of two variables are disjoint and union of them is equivalent to the original domain of the variable.\\nIf newName is not given, it creates a variable with prefix \"_split\" appended to the original name.', 'name': 'Split'}\n",
      "{'description': 'Merge two variables (of name var1Name and var2Name) into a single one.\\nThese variables must both be locals and must have disjoint domains. The name of the merge of these two variables is \"newName\".', 'name': 'Merge'}\n",
      "{'description': 'Inlines the nth(number) reference to inlineEq in the definition of targetEq once. If the number is not specified, all references to inlineEq are inlined.', 'name': 'Inline'}\n",
      "{'description': 'Simplifies the program in multiple ways. The domains are simplified by simplifyInContext (a.k.a. gist). When the domain of a reduction body is a single point, reduction is removed.', 'name': 'Simplify'}\n",
      "{'output': 'Program', 'description': 'Takes an alphabetes program and converts it to a program that computes the fastest possible schedule (free shcedule).\\nThis transformation DOES NOT preserve the original semantics, but instead creates a new Program object.\\n\\nImplemented by Alex Klein as a class project in cs560@spring11', 'name': 'createFreeScheduler'}\n",
      "{'description': 'Replace an expression that has unions of polyhedra as its context domain with a case expression that splits the union into multiple disjiont polyhedra.', 'name': 'SplitUnion'}\n",
      "{'description': 'Applies sequence of CoBs using STMap given for each variable.\\nThis is identical to the pre-processing step of ScheduledC code generator, where all variables are mapped to a common space so that ordering of iterations can be defined.\\nAssumes correct schedule [TODO:run verifier before applying the transformation once the verifier is fixed]\\nAll STMaps and MemoryMaps given for the system will also be transformed appropriately.', 'name': 'ApplySTMap'}\n",
      "{'description': 'Attempts to uniformize all dependencies when possible.', 'name': 'UniformizeInContext'}\n",
      "{'description': 'Force the inline action even if there is a self loop dependence', 'name': 'InlineForce'}\n",
      "{'description': 'Inline all the possible equation in a system when there is no self loop dependence', 'name': 'InlineAll'}\n",
      "{'description': 'Inline all the possible equations in a system even with self loop dependence once', 'name': 'InlineAllForce'}\n",
      "{'description': 'Inline the subsystem used by the UseEquation specified by nodeID', 'name': 'InlineSubSystem'}\n",
      "{'description': 'Outline a list of equations of a given system. These equation are defined through a list of variable (\"listEquations\") that corresponds to the variable of a StandardEquation or to the output of a UseEquation.\\n[V1] The created use equation will have no extension domain, and only variable expressions as inputs.', 'name': 'OutlineSubSystem'}\n",
      "{'description': 'Adds a local variable (of name specified by \"nameLocal\") for the expression \"expr\" and replace each occurrence of this expression in the considered system.\\n\"expr\" can be specified through a expression of the system (located in \"nodeID\"), or through an external expression \"expr\" whose list of indexes is \"lInds\".', 'name': 'AddLocal'}\n",
      "{'description': 'Replace only the expression (specified by the location \"nodeID\") by a new local variable (of name \"nameLocal\").', 'name': 'AddLocalUnique'}\n",
      "{'description': 'Detects simple reductions in the program and exposes as reduce expressions.', 'name': 'DetectReductions'}\n",
      "{'output': 'AffineFunction', 'description': 'Use the equalities of the domain of the specified variable in order to reduce its number of dimension.\\nPerform the corresponding change of basis and return the affine function used in this CoB.', 'name': 'reduceDimVariable'}\n",
      "{'output': 'AffineFunction', 'description': 'Align the bounding box of the domain of a variable with the point \\\\vec{0}, by using a translation.\\nNote: might not work if the lower bound is not an affine function\\nReturn the affine function used to perform the translation.', 'name': 'alignDimVariable'}\n",
      "{'description': 'Generates scheduledC code for a system using the TargetMapping specified for the system.\\nDetailed options can be given through optional argument.', 'name': 'generateScheduledCode'}\n",
      "{'description': 'Generates WriteC code for a system.\\nTargetMapping is ignored except for MemoryMapping given for output variables.\\nDetailed options can be given through optional argument.', 'name': 'generateWriteC'}\n",
      "{'description': 'Generates a wrapper code for the given sytem using the specified TargetMapping.', 'name': 'generateWrapper'}\n",
      "{'description': 'Generates code for verifying generated program. The code is generated using demand-driven code generator (WriteC).', 'name': 'generateVerificationCode'}\n",
      "{'description': 'Generates Makefile to compile generated code + wrapper.', 'name': 'generateMakefile'}\n",
      "{'userCommand': 'false', 'name': 'generateMakefileInternal'}\n",
      "{'output': 'CodeGenOptions', 'description': 'Creates instance of CodeGenOptions for WriteC using default values.', 'name': 'createCGOptionForWriteC'}\n",
      "{'output': 'CodeGenOptions', 'description': 'Creates instance of CodeGenOptions for ScheduledC using default values.', 'name': 'createCGOptionForScheduledC'}\n",
      "{'output': 'CodeGenOptions', 'description': 'Creates instance of CodeGenOptions for Hybrid ScheduledC for GPU using dimToInsertChecks to insert checks.', 'name': 'createCGOptionForHybridScheduledCGPU'}\n",
      "{'output': 'CodeGenOptions', 'description': 'Creates instance of CodeGenOptions for Hybrid ScheduledC using dimToInsertChecks to insert checks.', 'name': 'createCGOptionForHybridScheduledC'}\n",
      "{'description': 'Specifies true/false (1/0) values for if the multi-dimensional arrays allocated should be flattened to 1D or not.', 'name': 'setCGOptionFlattenArrays'}\n",
      "{'description': 'Options to skip Normalize before generating code with the ScheduleC code generator.\\nThis is an option added as an workaround to scalability problems with Normalize, and will be removed in the future.\\nNot normalizing may lead to significantly inefficient code.', 'name': 'setCGOptionDisableNormalize_depreciated'}\n",
      "{'output': 'TiledCodeGenOptions', 'description': 'Creates instance of CodeGenOptions for ScheduledC using default values for tiling.', 'name': 'createTiledCGOptionForScheduledC'}\n",
      "{'output': 'TiledCodeGenOptions', 'description': 'Creates instance of CodeGenOptions for PCOTC using default values for tiling.', 'name': 'createCGOptionsForPCOT'}\n",
      "{'description': 'Applies optimizations to the tiled code generated using full-tile splitting of a selected statement group.\\nStatement group is selected with heuristics that may not be accurate.', 'name': 'setTiledCGOptionOptimize'}\n",
      "{'output': 'CodeGenOptions', 'userCommand': 'false', 'description': 'Returns CodeGenOptions appropriate for the given system.', 'name': 'getDefaultCodeGenOptions'}\n",
      "{'description': 'code generator for a scan subsystem ( a subsystem that contains only scan computations)', 'name': 'generateScanC'}\n",
      "{'description': 'CPU code generator for Polyhedral Cache Oblivious Tiling', 'name': 'generatePCOTCode'}\n",
      "{'description': 'generate code using the flattened multi-pass tiling and parallelization strategy', 'name': 'generateFMPPCode'}\n",
      "{'description': 'Turn on the vectorization option for TiledC. Right now it is only open for DTiler -- Where only 1 level of tiling is applied and all dimensions are tiled.\\nFour types of vectorization strategy is supported: naive, opt nobuff -- optimized vectorization strategy without temporary buffering, all aligned -- optimized vectorization strategy with temporary buffering and all vectors aligned, mostly aligned -- optimized vectorization strategy with temporary buffering and mostly aligned strategy. The default strategy is set to be \"opt nobuff\".\\nRegister block size only corresponds to the data dimensions of stencil computations, the default register block size is set to unroll the innermost vectorized dimension 4 times. ', 'name': 'setVecOptionForTiledC'}\n",
      "{'description': 'Set the variables for vectorization. All the variable statement must occur under the same innermost loop nest. ', 'name': 'setVecVarsForTiledC'}\n",
      "{'name': 'setVecVarForTiledC'}\n",
      "{'output': 'TiledCodeGenOptions', 'description': 'Generates code with recursion depth as an input parameter.', 'name': 'addRecursionDepthForPCOT'}\n",
      "{'output': 'Domain', 'description': 'Reads domain in String and returns a Domain object.', 'name': 'readDomain'}\n",
      "{'output': 'AffineFunction', 'description': 'Reads affine function in String and returns an AffineFunction object.', 'name': 'readFunction'}\n",
      "{'output': 'AffineFunction', 'description': 'Compute the inverse of the give affine function.', 'name': 'inverse'}\n",
      "{'output': 'AffineFunction', 'description': 'Computes inverse of the given affine function, in the context of the given domain.', 'name': 'inverseInContext'}\n",
      "{'output': 'AffineFunction', 'description': 'Returns a function, that computes function2@function1.', 'name': 'compose'}\n",
      "{'output': 'Domain', 'description': 'Returns the intersection of two domains given.', 'name': 'intersection'}\n",
      "{'output': 'Domain', 'description': 'Returns the union of two domains given.', 'name': 'union'}\n",
      "{'output': 'AffineFunction', 'description': 'Returns a function that computes function1@function2.', 'name': 'join'}\n",
      "{'output': 'Boolean', 'description': 'Returns true if the domain is empty.', 'name': 'isEmpty'}\n",
      "{'output': 'Boolean', 'description': 'Returns true if the two domains/functions given are equivalent.', 'name': 'isEquivalent'}\n",
      "{'output': 'Domain', 'description': 'Compute the image of the given domain by the given function.', 'name': 'image'}\n",
      "{'output': 'Domain', 'description': 'Compute the pre-image of the given domain by the given function.', 'name': 'preImage'}\n",
      "{'output': 'Domain', 'description': 'Returns domainA / domainB.', 'name': 'difference'}\n",
      "{'output': 'Domain', 'description': 'Takes domain and context domain, and returns the domain with constraints that are redundant with the context removed.', 'name': 'simplifyInContext'}\n",
      "{'output': 'PRDG', 'description': 'Constructs a PRDG for the specified AffineSystem. Input variables are excluded from the PRDG default. To override this option, set the optional argument noInput to 0.', 'name': 'BuildPRDG'}\n",
      "{'description': 'Exports the given PRDG as a dot file.', 'name': 'ExportPRDG'}\n",
      "{'description': 'Performs uniqueness and completeness check of the program.\\nThe program is a valid alphabets program, if it passes this check.\\nDetails of the check can be found at \\\\url{http://www.cs.colostate.edu/AlphaZ/wiki/doku.php?id=check_program}.', 'name': 'CheckProgram'}\n",
      "{'description': 'Verifies the target mapping given to a system. The third input takes \"NONE\", \"MIN\", \"MAX\" to control the verbosity.', 'name': 'VerifyTargetMapping'}\n",
      "{'description': 'CheckSystem is CheckProgram applied to the specified system.', 'name': 'CheckSystem'}\n",
      "{'output': 'List<ScheduledStatement>', 'description': 'Farkas mono-dimensional scheduler.', 'name': 'Farkas1DScheduler'}\n",
      "{'output': 'List<ScheduledStatement>', 'description': 'Farkas multi-dimensional scheduler. Uses ISL implementation.', 'name': 'FarkasMDScheduler'}\n",
      "{'output': 'List<ScheduledStatement>', 'description': 'Pluto scheduler. Uses implementation in ISL.', 'name': 'PlutoScheduler'}\n",
      "{'output': 'PRDG', 'userCommand': 'false', 'description': 'Reverts source and destination of PRDG edges to match the expected input of the scheduler.\\nWill be removed once PRDG is fixed.', 'name': 'revertPRDGEdges'}\n",
      "{'userCommand': 'false', 'description': 'Pretty prints scheduled statements returned by a scheduler.', 'name': 'printScheduledStatements'}\n",
      "{'description': 'Specifies a space time mapping of a variable at a certain level. By default (when there is no value for level), the space-time map is set up for the first level of targetMapping.', 'name': 'setSpaceTimeMap'}\n",
      "{'description': 'Specifies a memory map for a variable. Some variables may share the same meory map and memory space, then they can be set up using one command by providing a list of variables. ', 'name': 'setMemoryMap'}\n",
      "{'description': 'Specifies the memory space for a variable. Normally, each variable has a separate memory space. However, some variables may share the same memory space, and this can be set up once by providing a list of variable.', 'name': 'setMemorySpace'}\n",
      "{'description': 'Specifies the ordering of the statements (alphabets variables) in the generated code. This is similar to adding an additional ordering dimensions to the last dimension of space-time mapping, and providing ordering information.\\nAlphaZ provides an alternative to such specification by allowing the user to specify partial orderings between statements.\\nA total order is deduced at the time of code generation.', 'name': 'setStatementOrdering'}\n",
      "{'description': 'Lists all SpaceTime maps that have been specified for a system.', 'name': 'listSpaceTimeMaps'}\n",
      "{'description': 'Lists all memory mappings specified for a system.', 'name': 'listMemoryMaps'}\n",
      "{'description': 'Applies schedules found by a scheduler (such as Farkas scheduler) to target mapping.', 'name': 'setSchedule'}\n",
      "{'description': 'Specify the parallel dimensions for a system. The nth dimension (specified by parallelDims, start with zero) with the specified ordering prefix to be parallel.', 'name': 'setParallel'}\n",
      "{'description': 'Create a spacetimelevel data stucture for level (level)', 'name': 'CreateSpaceTimeLevel'}\n",
      "{'description': 'specify which dimension is the ordering dimension for each level of the targetMapping. Dimension starts with zero. If no value is specified for the targetMapping level, it is the first level by default. ', 'name': 'setOrderingDimensions'}\n",
      "{'description': 'set space time map for the memory allocation statement for the input/output of the use equation.\\nisInput -- 0: for nTh input of the use equaiton\\nisInput -- 1: for nTh output of the use equation', 'name': 'setSpaceTimeMapForMemoryAllocation'}\n",
      "{'description': 'set the space time map for the value copy statement for input/output of a use equation', 'name': 'setSpaceTimeMapForValueCopy'}\n",
      "{'description': 'set the space time map for the memory free statement for the input/ouput of a useEquation.\\nisInput -- 0, for the input of the useEquation\\nisInput -- 1, for the output of the useEquation', 'name': 'setSpaceTimeMapForMemoryFree'}\n",
      "{'description': 'set the space time map for the memory allocation, value copy, memory allocation statement for the input/output of the useEuqation.\\nisInput -- 0: for the input of the useEquation\\nisInput -- 1: for the output of the useEquation', 'name': 'setSpaceTimeMapForUseEquationOptimization'}\n",
      "{'description': 'set memory space for the input/ouput of the useEquation', 'name': 'setMemorySpaceForUseEquationOptimization'}\n",
      "{'description': 'configure a band of continuous dimensions for tiling.', 'name': 'setBandForTiling'}\n",
      "{'description': 'Configure the subtiling specification for a band. The band is identified by the name. There are two types of tiling type: sequential and openmp wavefront. Represented with \"sequential\" and \"wavefront\" separately.', 'name': 'setSubTilingWithinBand'}\n",
      "{'description': 'Set up the default configuration for dtiler: apply parametric one level tiling to all the dimensions from [start to end].', 'name': 'setDefaultDTilerConfiguration'}\n"
     ]
    }
   ],
   "source": [
    "funcstr = []\n",
    "s =''\n",
    "f = open('newswitch.txt','w')\n",
    "for l in root[0]:\n",
    "    sub = l.attrib['name']\n",
    "    if sub == 'Utility':\n",
    "        continue\n",
    "    for func in l:\n",
    "        #print(func.attrib['name'])\n",
    "        if func.tag == 'commands':\n",
    "            s = s + 'case \"' + func.attrib['name'] +'\":\\n'\n",
    "            s = s + getswitchforfunc(func, sub)\n",
    "            s = s + '\\tbreak;\\n'\n",
    "        else:\n",
    "            for subfunc in func:\n",
    "                s = s + 'case \"' + subfunc.attrib['name'] +'\":\\n'\n",
    "                s = s + getswitchforfunc(subfunc, func.attrib['name'])\n",
    "                s = s + '\\tbreak;\\n'\n",
    "f.write(s)\n",
    "f.close()"
   ]
  },
  {
   "cell_type": "code",
   "execution_count": 104,
   "metadata": {
    "collapsed": false
   },
   "outputs": [
    {
     "name": "stdout",
     "output_type": "stream",
     "text": [
      "{'output': 'Domain', 'description': 'Reads domain in String and returns a Domain object.', 'name': 'readDomain'}\n"
     ]
    }
   ],
   "source": [
    "print(root[0][3][0].attrib)"
   ]
  },
  {
   "cell_type": "code",
   "execution_count": 106,
   "metadata": {
    "collapsed": false
   },
   "outputs": [
    {
     "name": "stdout",
     "output_type": "stream",
     "text": [
      "{'overLoadedInputs': '//@subcategories.0/@subcategories.2/@commands.0/@inputs.0 //@subcategories.0/@subcategories.2/@commands.0/@inputs.1 //@subcategories.0/@subcategories.2/@commands.0/@inputs.3'}\n",
      "{'overLoadedInputs': '//@subcategories.0/@subcategories.2/@commands.0/@inputs.0 //@subcategories.0/@subcategories.2/@commands.0/@inputs.1 //@subcategories.0/@subcategories.2/@commands.0/@inputs.3 //@subcategories.0/@subcategories.2/@commands.0/@inputs.4'}\n",
      "{'overLoadedInputs': '//@subcategories.0/@subcategories.2/@commands.0/@inputs.0 //@subcategories.0/@subcategories.2/@commands.0/@inputs.1'}\n",
      "{'overLoadedInputs': '//@subcategories.0/@subcategories.2/@commands.0/@inputs.0 //@subcategories.0/@subcategories.2/@commands.0/@inputs.1 //@subcategories.0/@subcategories.2/@commands.0/@inputs.4'}\n",
      "{'overLoadedInputs': '//@subcategories.0/@subcategories.2/@commands.0/@inputs.0 //@subcategories.0/@subcategories.2/@commands.0/@inputs.1 //@subcategories.0/@subcategories.2/@commands.0/@inputs.2 //@subcategories.0/@subcategories.2/@commands.0/@inputs.3'}\n",
      "{'name': 'program'}\n",
      "{'type': 'String', 'name': 'system'}\n",
      "{'defaultValue': 'getDefaultCodeGenOptions(program, system)', 'type': 'CodeGenOptions', 'name': 'options'}\n",
      "{'defaultValue': '\"./\"', 'type': 'String', 'name': 'outDir'}\n",
      "{'defaultValue': 'false', 'type': 'Boolean', 'name': 'genVerifier'}\n"
     ]
    }
   ],
   "source": [
    "for l in root[0][2][0]:\n",
    "    print(l.attrib)"
   ]
  },
  {
   "cell_type": "code",
   "execution_count": 30,
   "metadata": {
    "collapsed": false
   },
   "outputs": [],
   "source": [
    "def getUsageandDes(func):\n",
    "    des = None\n",
    "    if 'description' in func.attrib.keys():\n",
    "        des = func.attrib['description'].replace('\\n','').replace('\"','\\\\\"')\n",
    "    paramlist = []\n",
    "    for l in func:\n",
    "        if 'name' in l.attrib.keys() and 'prog' in l.attrib['name']:\n",
    "            paramlist.append('Program prog')\n",
    "        elif 'type' in l.attrib.keys():\n",
    "            paramlist.append(l.attrib['type'] + ' ' + l.attrib['name'])\n",
    "    \n",
    "    return[des, paramlist]\n",
    "        "
   ]
  },
  {
   "cell_type": "code",
   "execution_count": 16,
   "metadata": {
    "collapsed": false
   },
   "outputs": [
    {
     "data": {
      "text/plain": [
       "['Reads domain in String and returns a Domain object.',\n",
       " ['Domain paramDomain', 'String domain']]"
      ]
     },
     "execution_count": 16,
     "metadata": {},
     "output_type": "execute_result"
    }
   ],
   "source": [
    "getUsageandDes(root[0][3][0])"
   ]
  },
  {
   "cell_type": "code",
   "execution_count": 31,
   "metadata": {
    "collapsed": false
   },
   "outputs": [
    {
     "name": "stdout",
     "output_type": "stream",
     "text": [
      "{'description': 'Outputs the program to the specified file with array syntax.\\nWhen filename is not specified, saves as \"original_filename-ASave.ab\".', 'name': 'ASave'}\n",
      "{'description': 'Outputs the result of AShow to the specified file.\\nWhen filename is not specified, saves as \"original_filename-ASave.ab\".', 'name': 'ASaveSystem'}\n",
      "{'output': 'String', 'description': 'Prints out the program using array notation.\\nPrints out the entire program when target system is unspecified.\\n', 'name': 'AShow'}\n",
      "{'description': 'Saves the output of show to the specified file.\\nWhen output filename is unspecified, saves to \"original_filename-Show.ab\".', 'name': 'Save'}\n",
      "{'description': 'Saves the output of show to the specified file.\\nWhen output filename is unspecified, saves to \"original_filename-Show.ab\".', 'name': 'SaveSystem'}\n",
      "{'output': 'String', 'description': 'Pretty prints the program using alpha-purist syntax.\\nPrints out the entire program when target system is unspecified.', 'name': 'Show'}\n",
      "{'description': 'Normalizes the program. Normalization rules are described in more detail at: \\\\url{http://www.cs.colostate.edu/AlphaZ/wiki/doku.php?id=normalize}.', 'name': 'Normalize'}\n",
      "{'output': 'String', 'description': 'Prints out the AST of the program.\\nPrints out the entire program when target system is unspecified.', 'name': 'PrintAST'}\n",
      "{'output': 'Program', 'description': 'Parses the given alphabets program and returns a Program object.', 'name': 'ReadAlphabets'}\n",
      "{'description': 'Renames an AffineSystem.', 'name': 'RenameSystem'}\n",
      "{'description': 'Renames a variable.', 'name': 'RenameVariable'}\n",
      "{'description': 'Removes unused variables and equations. Unused variables are variables that is not used by the definition of output.', 'name': 'RemoveUnusedVariables'}\n",
      "{'commandPrefix': '', 'name': 'Reduction', 'description': 'Transformations involving reduce expressions.'}\n",
      "{'name': 'MonoparametricTiling', 'description': 'Commands which parametrize the monoparametric tiling transformation, plus the transformation itself'}\n",
      "{'description': 'Change of Basis transforms the domain of a variable to the image by the given function, while adding necessary dependence expressions to maintain the original semantics of the program. Details can be found at \\\\url{http://www.cs.colostate.edu/AlphaZ/wiki/doku.php?id=change_of_basis}.', 'name': 'CoB'}\n",
      "{'description': 'Force the change of basis even if the CoB is for input/output of a system.', 'name': 'ForceCoB'}\n",
      "{'description': 'Splits a variable into two, where the domain of two variables are disjoint and union of them is equivalent to the original domain of the variable.\\nIf newName is not given, it creates a variable with prefix \"_split\" appended to the original name.', 'name': 'Split'}\n",
      "{'description': 'Merge two variables (of name var1Name and var2Name) into a single one.\\nThese variables must both be locals and must have disjoint domains. The name of the merge of these two variables is \"newName\".', 'name': 'Merge'}\n",
      "{'description': 'Inlines the nth(number) reference to inlineEq in the definition of targetEq once. If the number is not specified, all references to inlineEq are inlined.', 'name': 'Inline'}\n",
      "{'description': 'Simplifies the program in multiple ways. The domains are simplified by simplifyInContext (a.k.a. gist). When the domain of a reduction body is a single point, reduction is removed.', 'name': 'Simplify'}\n",
      "{'output': 'Program', 'description': 'Takes an alphabetes program and converts it to a program that computes the fastest possible schedule (free shcedule).\\nThis transformation DOES NOT preserve the original semantics, but instead creates a new Program object.\\n\\nImplemented by Alex Klein as a class project in cs560@spring11', 'name': 'createFreeScheduler'}\n",
      "{'description': 'Replace an expression that has unions of polyhedra as its context domain with a case expression that splits the union into multiple disjiont polyhedra.', 'name': 'SplitUnion'}\n",
      "{'description': 'Applies sequence of CoBs using STMap given for each variable.\\nThis is identical to the pre-processing step of ScheduledC code generator, where all variables are mapped to a common space so that ordering of iterations can be defined.\\nAssumes correct schedule [TODO:run verifier before applying the transformation once the verifier is fixed]\\nAll STMaps and MemoryMaps given for the system will also be transformed appropriately.', 'name': 'ApplySTMap'}\n",
      "{'description': 'Attempts to uniformize all dependencies when possible.', 'name': 'UniformizeInContext'}\n",
      "{'description': 'Force the inline action even if there is a self loop dependence', 'name': 'InlineForce'}\n",
      "{'description': 'Inline all the possible equation in a system when there is no self loop dependence', 'name': 'InlineAll'}\n",
      "{'description': 'Inline all the possible equations in a system even with self loop dependence once', 'name': 'InlineAllForce'}\n",
      "{'description': 'Inline the subsystem used by the UseEquation specified by nodeID', 'name': 'InlineSubSystem'}\n",
      "{'description': 'Outline a list of equations of a given system. These equation are defined through a list of variable (\"listEquations\") that corresponds to the variable of a StandardEquation or to the output of a UseEquation.\\n[V1] The created use equation will have no extension domain, and only variable expressions as inputs.', 'name': 'OutlineSubSystem'}\n",
      "{'description': 'Adds a local variable (of name specified by \"nameLocal\") for the expression \"expr\" and replace each occurrence of this expression in the considered system.\\n\"expr\" can be specified through a expression of the system (located in \"nodeID\"), or through an external expression \"expr\" whose list of indexes is \"lInds\".', 'name': 'AddLocal'}\n",
      "{'description': 'Replace only the expression (specified by the location \"nodeID\") by a new local variable (of name \"nameLocal\").', 'name': 'AddLocalUnique'}\n",
      "{'description': 'Detects simple reductions in the program and exposes as reduce expressions.', 'name': 'DetectReductions'}\n",
      "{'output': 'AffineFunction', 'description': 'Use the equalities of the domain of the specified variable in order to reduce its number of dimension.\\nPerform the corresponding change of basis and return the affine function used in this CoB.', 'name': 'reduceDimVariable'}\n",
      "{'output': 'AffineFunction', 'description': 'Align the bounding box of the domain of a variable with the point \\\\vec{0}, by using a translation.\\nNote: might not work if the lower bound is not an affine function\\nReturn the affine function used to perform the translation.', 'name': 'alignDimVariable'}\n",
      "{'description': 'Generates scheduledC code for a system using the TargetMapping specified for the system.\\nDetailed options can be given through optional argument.', 'name': 'generateScheduledCode'}\n",
      "{'description': 'Generates WriteC code for a system.\\nTargetMapping is ignored except for MemoryMapping given for output variables.\\nDetailed options can be given through optional argument.', 'name': 'generateWriteC'}\n",
      "{'description': 'Generates a wrapper code for the given sytem using the specified TargetMapping.', 'name': 'generateWrapper'}\n",
      "{'description': 'Generates code for verifying generated program. The code is generated using demand-driven code generator (WriteC).', 'name': 'generateVerificationCode'}\n",
      "{'description': 'Generates Makefile to compile generated code + wrapper.', 'name': 'generateMakefile'}\n",
      "{'userCommand': 'false', 'name': 'generateMakefileInternal'}\n",
      "{'output': 'CodeGenOptions', 'description': 'Creates instance of CodeGenOptions for WriteC using default values.', 'name': 'createCGOptionForWriteC'}\n",
      "{'output': 'CodeGenOptions', 'description': 'Creates instance of CodeGenOptions for ScheduledC using default values.', 'name': 'createCGOptionForScheduledC'}\n",
      "{'output': 'CodeGenOptions', 'description': 'Creates instance of CodeGenOptions for Hybrid ScheduledC for GPU using dimToInsertChecks to insert checks.', 'name': 'createCGOptionForHybridScheduledCGPU'}\n",
      "{'output': 'CodeGenOptions', 'description': 'Creates instance of CodeGenOptions for Hybrid ScheduledC using dimToInsertChecks to insert checks.', 'name': 'createCGOptionForHybridScheduledC'}\n",
      "{'description': 'Specifies true/false (1/0) values for if the multi-dimensional arrays allocated should be flattened to 1D or not.', 'name': 'setCGOptionFlattenArrays'}\n",
      "{'description': 'Options to skip Normalize before generating code with the ScheduleC code generator.\\nThis is an option added as an workaround to scalability problems with Normalize, and will be removed in the future.\\nNot normalizing may lead to significantly inefficient code.', 'name': 'setCGOptionDisableNormalize_depreciated'}\n",
      "{'output': 'TiledCodeGenOptions', 'description': 'Creates instance of CodeGenOptions for ScheduledC using default values for tiling.', 'name': 'createTiledCGOptionForScheduledC'}\n",
      "{'output': 'TiledCodeGenOptions', 'description': 'Creates instance of CodeGenOptions for PCOTC using default values for tiling.', 'name': 'createCGOptionsForPCOT'}\n",
      "{'description': 'Applies optimizations to the tiled code generated using full-tile splitting of a selected statement group.\\nStatement group is selected with heuristics that may not be accurate.', 'name': 'setTiledCGOptionOptimize'}\n",
      "{'output': 'CodeGenOptions', 'userCommand': 'false', 'description': 'Returns CodeGenOptions appropriate for the given system.', 'name': 'getDefaultCodeGenOptions'}\n",
      "{'description': 'code generator for a scan subsystem ( a subsystem that contains only scan computations)', 'name': 'generateScanC'}\n",
      "{'description': 'CPU code generator for Polyhedral Cache Oblivious Tiling', 'name': 'generatePCOTCode'}\n",
      "{'description': 'generate code using the flattened multi-pass tiling and parallelization strategy', 'name': 'generateFMPPCode'}\n",
      "{'description': 'Turn on the vectorization option for TiledC. Right now it is only open for DTiler -- Where only 1 level of tiling is applied and all dimensions are tiled.\\nFour types of vectorization strategy is supported: naive, opt nobuff -- optimized vectorization strategy without temporary buffering, all aligned -- optimized vectorization strategy with temporary buffering and all vectors aligned, mostly aligned -- optimized vectorization strategy with temporary buffering and mostly aligned strategy. The default strategy is set to be \"opt nobuff\".\\nRegister block size only corresponds to the data dimensions of stencil computations, the default register block size is set to unroll the innermost vectorized dimension 4 times. ', 'name': 'setVecOptionForTiledC'}\n",
      "{'description': 'Set the variables for vectorization. All the variable statement must occur under the same innermost loop nest. ', 'name': 'setVecVarsForTiledC'}\n",
      "{'name': 'setVecVarForTiledC'}\n",
      "{'output': 'TiledCodeGenOptions', 'description': 'Generates code with recursion depth as an input parameter.', 'name': 'addRecursionDepthForPCOT'}\n",
      "{'output': 'Domain', 'description': 'Reads domain in String and returns a Domain object.', 'name': 'readDomain'}\n",
      "{'output': 'AffineFunction', 'description': 'Reads affine function in String and returns an AffineFunction object.', 'name': 'readFunction'}\n",
      "{'output': 'AffineFunction', 'description': 'Compute the inverse of the give affine function.', 'name': 'inverse'}\n",
      "{'output': 'AffineFunction', 'description': 'Computes inverse of the given affine function, in the context of the given domain.', 'name': 'inverseInContext'}\n",
      "{'output': 'AffineFunction', 'description': 'Returns a function, that computes function2@function1.', 'name': 'compose'}\n",
      "{'output': 'Domain', 'description': 'Returns the intersection of two domains given.', 'name': 'intersection'}\n",
      "{'output': 'Domain', 'description': 'Returns the union of two domains given.', 'name': 'union'}\n",
      "{'output': 'AffineFunction', 'description': 'Returns a function that computes function1@function2.', 'name': 'join'}\n",
      "{'output': 'Boolean', 'description': 'Returns true if the domain is empty.', 'name': 'isEmpty'}\n",
      "{'output': 'Boolean', 'description': 'Returns true if the two domains/functions given are equivalent.', 'name': 'isEquivalent'}\n",
      "{'output': 'Domain', 'description': 'Compute the image of the given domain by the given function.', 'name': 'image'}\n",
      "{'output': 'Domain', 'description': 'Compute the pre-image of the given domain by the given function.', 'name': 'preImage'}\n",
      "{'output': 'Domain', 'description': 'Returns domainA / domainB.', 'name': 'difference'}\n",
      "{'output': 'Domain', 'description': 'Takes domain and context domain, and returns the domain with constraints that are redundant with the context removed.', 'name': 'simplifyInContext'}\n",
      "{'output': 'PRDG', 'description': 'Constructs a PRDG for the specified AffineSystem. Input variables are excluded from the PRDG default. To override this option, set the optional argument noInput to 0.', 'name': 'BuildPRDG'}\n",
      "{'description': 'Exports the given PRDG as a dot file.', 'name': 'ExportPRDG'}\n",
      "{'description': 'Performs uniqueness and completeness check of the program.\\nThe program is a valid alphabets program, if it passes this check.\\nDetails of the check can be found at \\\\url{http://www.cs.colostate.edu/AlphaZ/wiki/doku.php?id=check_program}.', 'name': 'CheckProgram'}\n",
      "{'description': 'Verifies the target mapping given to a system. The third input takes \"NONE\", \"MIN\", \"MAX\" to control the verbosity.', 'name': 'VerifyTargetMapping'}\n",
      "{'description': 'CheckSystem is CheckProgram applied to the specified system.', 'name': 'CheckSystem'}\n",
      "{'output': 'List<ScheduledStatement>', 'description': 'Farkas mono-dimensional scheduler.', 'name': 'Farkas1DScheduler'}\n",
      "{'output': 'List<ScheduledStatement>', 'description': 'Farkas multi-dimensional scheduler. Uses ISL implementation.', 'name': 'FarkasMDScheduler'}\n",
      "{'output': 'List<ScheduledStatement>', 'description': 'Pluto scheduler. Uses implementation in ISL.', 'name': 'PlutoScheduler'}\n",
      "{'output': 'PRDG', 'userCommand': 'false', 'description': 'Reverts source and destination of PRDG edges to match the expected input of the scheduler.\\nWill be removed once PRDG is fixed.', 'name': 'revertPRDGEdges'}\n",
      "{'userCommand': 'false', 'description': 'Pretty prints scheduled statements returned by a scheduler.', 'name': 'printScheduledStatements'}\n",
      "{'description': 'Specifies a space time mapping of a variable at a certain level. By default (when there is no value for level), the space-time map is set up for the first level of targetMapping.', 'name': 'setSpaceTimeMap'}\n",
      "{'description': 'Specifies a memory map for a variable. Some variables may share the same meory map and memory space, then they can be set up using one command by providing a list of variables. ', 'name': 'setMemoryMap'}\n",
      "{'description': 'Specifies the memory space for a variable. Normally, each variable has a separate memory space. However, some variables may share the same memory space, and this can be set up once by providing a list of variable.', 'name': 'setMemorySpace'}\n",
      "{'description': 'Specifies the ordering of the statements (alphabets variables) in the generated code. This is similar to adding an additional ordering dimensions to the last dimension of space-time mapping, and providing ordering information.\\nAlphaZ provides an alternative to such specification by allowing the user to specify partial orderings between statements.\\nA total order is deduced at the time of code generation.', 'name': 'setStatementOrdering'}\n",
      "{'description': 'Lists all SpaceTime maps that have been specified for a system.', 'name': 'listSpaceTimeMaps'}\n",
      "{'description': 'Lists all memory mappings specified for a system.', 'name': 'listMemoryMaps'}\n",
      "{'description': 'Applies schedules found by a scheduler (such as Farkas scheduler) to target mapping.', 'name': 'setSchedule'}\n",
      "{'description': 'Specify the parallel dimensions for a system. The nth dimension (specified by parallelDims, start with zero) with the specified ordering prefix to be parallel.', 'name': 'setParallel'}\n",
      "{'description': 'Create a spacetimelevel data stucture for level (level)', 'name': 'CreateSpaceTimeLevel'}\n",
      "{'description': 'specify which dimension is the ordering dimension for each level of the targetMapping. Dimension starts with zero. If no value is specified for the targetMapping level, it is the first level by default. ', 'name': 'setOrderingDimensions'}\n",
      "{'description': 'set space time map for the memory allocation statement for the input/output of the use equation.\\nisInput -- 0: for nTh input of the use equaiton\\nisInput -- 1: for nTh output of the use equation', 'name': 'setSpaceTimeMapForMemoryAllocation'}\n",
      "{'description': 'set the space time map for the value copy statement for input/output of a use equation', 'name': 'setSpaceTimeMapForValueCopy'}\n",
      "{'description': 'set the space time map for the memory free statement for the input/ouput of a useEquation.\\nisInput -- 0, for the input of the useEquation\\nisInput -- 1, for the output of the useEquation', 'name': 'setSpaceTimeMapForMemoryFree'}\n",
      "{'description': 'set the space time map for the memory allocation, value copy, memory allocation statement for the input/output of the useEuqation.\\nisInput -- 0: for the input of the useEquation\\nisInput -- 1: for the output of the useEquation', 'name': 'setSpaceTimeMapForUseEquationOptimization'}\n",
      "{'description': 'set memory space for the input/ouput of the useEquation', 'name': 'setMemorySpaceForUseEquationOptimization'}\n",
      "{'description': 'configure a band of continuous dimensions for tiling.', 'name': 'setBandForTiling'}\n",
      "{'description': 'Configure the subtiling specification for a band. The band is identified by the name. There are two types of tiling type: sequential and openmp wavefront. Represented with \"sequential\" and \"wavefront\" separately.', 'name': 'setSubTilingWithinBand'}\n",
      "{'description': 'Set up the default configuration for dtiler: apply parametric one level tiling to all the dimensions from [start to end].', 'name': 'setDefaultDTilerConfiguration'}\n"
     ]
    }
   ],
   "source": [
    "s =''\n",
    "f = open('helperswitch.txt','w')\n",
    "for l in root[0]:\n",
    "    sub = l.attrib['name']\n",
    "    if sub == 'Utility':\n",
    "        continue\n",
    "    for func in l:\n",
    "        print(func.attrib)\n",
    "        if func.tag == 'commands':\n",
    "            if 'userCommand' in func.attrib.keys() and func.attrib['userCommand'] == 'false':\n",
    "                continue\n",
    "            s = s + 'case \"' + func.attrib['name'] +'\":\\n'\n",
    "            [des,usage] = getUsageandDes(func)\n",
    "            if des:\n",
    "                des = 'Description: ' + des\n",
    "            usg = 'Usage: ' + func.attrib['name'] + '(' + ', '.join(usage) + ')'\n",
    "            if des:\n",
    "                s = s + '\\tSystem.out.println(\\\"' + des +'\\\");\\n'\n",
    "            s = s + '\\tSystem.out.println(\\\"' + usg +'\\\");\\n'\n",
    "            s = s +'\\tbreak;\\n'\n",
    "        else:\n",
    "            for subfunc in func:\n",
    "                s = s + 'case \"' + subfunc.attrib['name'] +'\":\\n'\n",
    "                [des,usage] = getUsageandDes(func)\n",
    "                des = 'Description: ' + des\n",
    "                usg = 'Usage: ' + subfunc.attrib['name'] + '(' + ', '.join(usage) + ')'\n",
    "                s = s + '\\tSystem.out.println(\\\"' + des +'\\\");\\n'\n",
    "                s = s + '\\tSystem.out.println(\\\"' + usg +'\\\");\\n'\n",
    "                s = s +'\\tbreak;\\n'\n",
    "f.write(s)\n",
    "f.close()"
   ]
  },
  {
   "cell_type": "code",
   "execution_count": null,
   "metadata": {
    "collapsed": true
   },
   "outputs": [],
   "source": []
  }
 ],
 "metadata": {
  "kernelspec": {
   "display_name": "Python 2",
   "language": "python",
   "name": "python2"
  },
  "language_info": {
   "codemirror_mode": {
    "name": "ipython",
    "version": 2
   },
   "file_extension": ".py",
   "mimetype": "text/x-python",
   "name": "python",
   "nbconvert_exporter": "python",
   "pygments_lexer": "ipython2",
   "version": "2.7.12"
  }
 },
 "nbformat": 4,
 "nbformat_minor": 1
}
